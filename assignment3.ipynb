{
 "cells": [
  {
   "cell_type": "markdown",
   "metadata": {},
   "source": [
    "TASK 1"
   ]
  },
  {
   "cell_type": "markdown",
   "metadata": {},
   "source": [
    "Task 1.1: Develop a Cython version of the STREAM benchmark. Make sure to define the ctypes for obtaining full performance."
   ]
  },
  {
   "cell_type": "code",
   "execution_count": 2,
   "metadata": {},
   "outputs": [
    {
     "name": "stdout",
     "output_type": "stream",
     "text": [
      "Running test 1 out of 10\n",
      "Running test 2 out of 10\n",
      "Running test 3 out of 10\n",
      "Running test 4 out of 10\n",
      "Running test 5 out of 10\n",
      "Running test 6 out of 10\n",
      "Running test 7 out of 10\n",
      "Running test 8 out of 10\n",
      "Running test 9 out of 10\n",
      "Running test 10 out of 10\n"
     ]
    }
   ],
   "source": [
    "#We start by running the code from the previous task, and plot the bandwidth versus size of array used for the array data type\n",
    "!python3 stream.py"
   ]
  },
  {
   "cell_type": "code",
   "execution_count": null,
   "metadata": {},
   "outputs": [],
   "source": [
    "#We now run the cythonized version. The function run_STREAM_average was cythonized to be numpy arrays. You can see how in the files cythonfn.pyx and stream_cythonized.py\n",
    "#The program plots the bandwidth results varying the arrays' size, as asked in tasl 1.2\n",
    "!python3 setup.py build_ext --inplace\n",
    "!oython3 stream_cythonized.py"
   ]
  },
  {
   "cell_type": "markdown",
   "metadata": {},
   "source": [
    "Q. how does the bandwidth measured with Cython code compare to bandwidth obtained in Assignment II.\n"
   ]
  }
 ],
 "metadata": {
  "kernelspec": {
   "display_name": "Python 3",
   "language": "python",
   "name": "python3"
  },
  "language_info": {
   "codemirror_mode": {
    "name": "ipython",
    "version": 3
   },
   "file_extension": ".py",
   "mimetype": "text/x-python",
   "name": "python",
   "nbconvert_exporter": "python",
   "pygments_lexer": "ipython3",
   "version": "3.10.0"
  }
 },
 "nbformat": 4,
 "nbformat_minor": 2
}
